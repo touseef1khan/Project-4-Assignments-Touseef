{
  "nbformat": 4,
  "nbformat_minor": 0,
  "metadata": {
    "colab": {
      "provenance": [],
      "authorship_tag": "ABX9TyNpw+bFBChzBtuVSKHz7nzT",
      "include_colab_link": true
    },
    "kernelspec": {
      "name": "python3",
      "display_name": "Python 3"
    },
    "language_info": {
      "name": "python"
    }
  },
  "cells": [
    {
      "cell_type": "markdown",
      "metadata": {
        "id": "view-in-github",
        "colab_type": "text"
      },
      "source": [
        "<a href=\"https://colab.research.google.com/github/touseef1khan/Project-4-Assignments-Touseef/blob/main/03_if_statement.ipynb\" target=\"_parent\"><img src=\"https://colab.research.google.com/assets/colab-badge.svg\" alt=\"Open In Colab\"/></a>"
      ]
    },
    {
      "cell_type": "code",
      "execution_count": 1,
      "metadata": {
        "colab": {
          "base_uri": "https://localhost:8080/"
        },
        "id": "yD2eWVK4zWN6",
        "outputId": "b9a38a09-3345-45db-f1f4-d58e15a50dab"
      },
      "outputs": [
        {
          "output_type": "stream",
          "name": "stdout",
          "text": [
            "01_print_events\n",
            "0\n",
            "2\n",
            "4\n",
            "6\n",
            "8\n",
            "10\n",
            "12\n",
            "14\n",
            "16\n",
            "18\n",
            "20\n",
            "22\n",
            "24\n",
            "26\n",
            "28\n",
            "30\n",
            "32\n",
            "34\n",
            "36\n",
            "38\n",
            "40\n",
            "42\n",
            "44\n",
            "46\n",
            "48\n",
            "50\n",
            "52\n",
            "54\n",
            "56\n",
            "58\n",
            "60\n",
            "62\n",
            "64\n",
            "66\n",
            "68\n",
            "70\n",
            "72\n",
            "74\n",
            "76\n",
            "78\n"
          ]
        }
      ],
      "source": [
        "print(\"01_print_events\")\n",
        "\n",
        "def even():\n",
        "  for i in range(40):\n",
        "    even = i*2\n",
        "    print(even)\n",
        "  #  print(\"Here is 20 even numbers are: \",i * 2)\n",
        "\n",
        "\n",
        "if __name__ == \"__main__\":\n",
        "  even()"
      ]
    },
    {
      "cell_type": "code",
      "source": [],
      "metadata": {
        "id": "jFKoQ-H00xji"
      },
      "execution_count": null,
      "outputs": []
    },
    {
      "cell_type": "code",
      "source": [
        "print(\"02_international_voting_age\")\n",
        "\n",
        "Peturksbouipo:int = 16\n",
        "Stanlau:int = 25\n",
        "Mayengua:int = 48\n",
        "age:int = int(input(\"How old are you?\"))\n",
        "\n",
        "def main():\n",
        "\n",
        "  if age >= Peturksbouipo:\n",
        "    print(f\"Your age is {age}.you are eligible to vote in Peturksbouipo!\")\n",
        "  else:\n",
        "    print(f\"Your age is {age}.you are not eligible to vote in Peturksbouipo!\")\n",
        "\n",
        "\n",
        "if age >= Stanlau:\n",
        "      print(f\"Your age is {age}.you are eligible to vote in Stanlau!\")\n",
        "else:\n",
        "      print(f\"Your age is {age}.you are not eligible to vote in Stanlau!\")\n",
        "\n",
        "\n",
        "if age >= Mayengua:\n",
        "      print(f\"Your age is {age}.you are eligible to vote in Mayengua!\")\n",
        "else:\n",
        "      print(f\"Your age is {age}.you are not eligible to vote in Mayengua!\")\n",
        "\n",
        "if __name__ == \"__main__\":\n",
        "  main()\n"
      ],
      "metadata": {
        "colab": {
          "base_uri": "https://localhost:8080/"
        },
        "id": "2T6ur4U106fQ",
        "outputId": "39ceb107-36a5-4db2-d423-7e61499904d8"
      },
      "execution_count": 4,
      "outputs": [
        {
          "output_type": "stream",
          "name": "stdout",
          "text": [
            "02_international_voting_age\n",
            "How old are you?20\n",
            "Your age is 20.you are not eligible to vote in Stanlau!\n",
            "Your age is 20.you are not eligible to vote in Mayengua!\n",
            "Your age is 20.you are eligible to vote in Peturksbouipo!\n"
          ]
        }
      ]
    },
    {
      "cell_type": "code",
      "source": [
        "print(\"03_leap_year\")\n",
        "\n",
        "def leap_year():\n",
        "  year:int = int(input(\"Enter as year.\"))\n",
        "\n",
        "  if year % 4 == 0:\n",
        "    if year % 100 == 0:\n",
        "      if year % 400 == 0:\n",
        "        print(f'{year} is a leap year.')\n",
        "      else:\n",
        "        print(f\"{year} is not a leap year.\")\n",
        "    else:\n",
        "      print(f'{year} is not a leap year.')\n",
        "  else:\n",
        "    print(f\"{year} is not a leap year.\")\n",
        "\n",
        "if __name__ == \"__main__\":\n",
        "  leap_year()\n"
      ],
      "metadata": {
        "colab": {
          "base_uri": "https://localhost:8080/"
        },
        "id": "PoinDGXn1muX",
        "outputId": "d1e33b9c-17db-4598-83d0-59610fc955d6"
      },
      "execution_count": 5,
      "outputs": [
        {
          "output_type": "stream",
          "name": "stdout",
          "text": [
            "03_leap_year\n",
            "Enter as year.2035\n",
            "2035 is not a leap year.\n"
          ]
        }
      ]
    },
    {
      "cell_type": "code",
      "source": [
        "print(\"04_tall_enough_to_ride\")\n",
        "\n",
        "min_height:int = 50\n",
        "def main():\n",
        "  user:int = int(input(\"How tall are you? \"))\n",
        "  if user >= min_height:\n",
        "    print(\"you are tall enough to ride\")\n",
        "  else:\n",
        "    print(\"you are not tall enough to ride.May be next year.\")\n",
        "\n",
        "if __name__ == \"__main__\":\n",
        "  main()\n"
      ],
      "metadata": {
        "colab": {
          "base_uri": "https://localhost:8080/"
        },
        "id": "TwWzELKG2BKn",
        "outputId": "40d5b387-5043-4b2e-b43d-681d68b9ffc0"
      },
      "execution_count": 6,
      "outputs": [
        {
          "output_type": "stream",
          "name": "stdout",
          "text": [
            "04_tall_enough_to_ride\n",
            "How tall are you? 10\n",
            "you are not tall enough to ride.May be next year.\n"
          ]
        }
      ]
    },
    {
      "cell_type": "code",
      "source": [
        "import random\n",
        "\n",
        "def main():\n",
        "  for i in range(10):\n",
        "    num:list[int] =  random.randint(1,100)\n",
        "    print(num)\n",
        "\n",
        "if __name__ == \"__main__\":\n",
        "  main()"
      ],
      "metadata": {
        "colab": {
          "base_uri": "https://localhost:8080/"
        },
        "id": "N3FP4alS2gyY",
        "outputId": "141efeb0-70f8-457f-8dc8-9eee9243ab15"
      },
      "execution_count": 7,
      "outputs": [
        {
          "output_type": "stream",
          "name": "stdout",
          "text": [
            "1\n",
            "67\n",
            "38\n",
            "45\n",
            "7\n",
            "95\n",
            "32\n",
            "46\n",
            "16\n",
            "78\n"
          ]
        }
      ]
    }
  ]
}