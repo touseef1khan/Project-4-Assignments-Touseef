{
  "nbformat": 4,
  "nbformat_minor": 0,
  "metadata": {
    "colab": {
      "provenance": [],
      "authorship_tag": "ABX9TyNgWdzkTDvBfoid0DegZe3b",
      "include_colab_link": true
    },
    "kernelspec": {
      "name": "python3",
      "display_name": "Python 3"
    },
    "language_info": {
      "name": "python"
    }
  },
  "cells": [
    {
      "cell_type": "markdown",
      "metadata": {
        "id": "view-in-github",
        "colab_type": "text"
      },
      "source": [
        "<a href=\"https://colab.research.google.com/github/touseef1khan/Project-4-Assignments-Touseef/blob/main/00_intro_python.ipynb\" target=\"_parent\"><img src=\"https://colab.research.google.com/assets/colab-badge.svg\" alt=\"Open In Colab\"/></a>"
      ]
    },
    {
      "cell_type": "code",
      "execution_count": null,
      "metadata": {
        "id": "5yza19h5gXPH",
        "colab": {
          "base_uri": "https://localhost:8080/"
        },
        "outputId": "e8bbdc0e-7e7a-4617-ab7b-4a5eb1d64496"
      },
      "outputs": [
        {
          "output_type": "stream",
          "name": "stdout",
          "text": [
            "@01_add_two_numbers\n",
            "This application for add two numbers\n",
            "Enter your first number: 5\n",
            "Enter your second number: 8\n",
            "The total sum of 5 and 8 is 13\n"
          ]
        }
      ],
      "source": [
        "print(\"01_add_two_numbers\")\n",
        "\n",
        "def add():\n",
        "    print(\"This application for add two numbers\")\n",
        "    first_number = int(input(\"Enter your first number: \"))\n",
        "    second_number = int(input(\"Enter your second number: \"))\n",
        "    total = first_number + second_number\n",
        "    print(f'The total sum of {first_number} and {second_number} is {total}')\n",
        "\n",
        "if __name__ == \"__main__\":\n",
        "    add()"
      ]
    },
    {
      "cell_type": "code",
      "source": [],
      "metadata": {
        "id": "hR3vkMq84gxT"
      },
      "execution_count": null,
      "outputs": []
    },
    {
      "cell_type": "code",
      "source": [
        "print(\"02_agreement_bot\")\n",
        "\n",
        "def bot():\n",
        "    animal = str(input(\"What is your favourite animal? \"))\n",
        "    print(f'My favorite animal is also {animal}!')\n",
        "\n",
        "if __name__ == \"__main__\":\n",
        "    bot()"
      ],
      "metadata": {
        "colab": {
          "base_uri": "https://localhost:8080/"
        },
        "id": "yDBxqvON3p1R",
        "outputId": "339056fd-5f8b-4106-fcd5-91c3b283cf35"
      },
      "execution_count": null,
      "outputs": [
        {
          "output_type": "stream",
          "name": "stdout",
          "text": [
            "@02_agreement_bot\n",
            "What is your favourite animal? cat\n",
            "My favorite animal is also cat!\n"
          ]
        }
      ]
    },
    {
      "cell_type": "code",
      "source": [
        "print(\"03_fahrenheit_to_celsius\")\n",
        "\n",
        "def temp():\n",
        "    print(\"This code for converting fahrenheit to celsius\")\n",
        "    fahrenheit_degree = float(input(\"Enter your fahrenheit degree: \"))\n",
        "    celsius_degree = (fahrenheit_degree - 32) * 5.0 / 9.0\n",
        "    print(f'Temperature {fahrenheit_degree}°F = {celsius_degree}°C')\n",
        "\n",
        "if __name__ == \"__main__\":\n",
        "    temp()"
      ],
      "metadata": {
        "colab": {
          "base_uri": "https://localhost:8080/"
        },
        "id": "RARhE90v46Cr",
        "outputId": "c446d840-d5d4-44f8-9f98-537d88e24ce8"
      },
      "execution_count": null,
      "outputs": [
        {
          "output_type": "stream",
          "name": "stdout",
          "text": [
            "@03_fahrenheit_to_celsius\n",
            "This code for converting fahrenheit to celsius\n",
            "Enter your fahrenheit degree: 54\n",
            "Temperature 54.0°F = 12.222222222222221°C\n"
          ]
        }
      ]
    },
    {
      "cell_type": "code",
      "source": [
        "print(\"04_how_old_are_they\")\n",
        "\n",
        "def add_ages():\n",
        "    anthon: int = 21\n",
        "    beth: int = anthon + 6\n",
        "    chen: int = beth + 20\n",
        "    drew: int = chen + anthon\n",
        "    ethan: int = chen\n",
        "\n",
        "    print(\"Anthon is \" + str(anthon))\n",
        "    print(\"Beth is \" + str(beth))\n",
        "    print(\"Chen is \" + str(chen))\n",
        "    print(\"Drew is \" + str(drew))\n",
        "    print(\"Ethan is \" + str(ethan))\n",
        "\n",
        "if __name__ == \"__main__\":\n",
        "    add_ages()"
      ],
      "metadata": {
        "colab": {
          "base_uri": "https://localhost:8080/"
        },
        "id": "W7GVDYyD6ALF",
        "outputId": "b3fac9b9-2d11-4dd5-e615-0418283f4f9e"
      },
      "execution_count": null,
      "outputs": [
        {
          "output_type": "stream",
          "name": "stdout",
          "text": [
            "@04_how_old_are_they\n",
            "Anthon is 21\n",
            "Beth is 27\n",
            "Chen is 47\n",
            "Drew is 68\n",
            "Ethan is 47\n"
          ]
        }
      ]
    },
    {
      "cell_type": "code",
      "source": [
        "print(\"05_triangle_perimeter\")\n",
        "\n",
        "def triangle():\n",
        "    print(\"This code is about perimeter of triangle.\")\n",
        "    side1: float = float(input(\"Enter your first side no of triangle: \"))\n",
        "    side2: float = float(input(\"Enter your second side no of triangle: \"))\n",
        "    side3: float = float(input(\"Enter your third side no of triangle: \"))\n",
        "    total: float = float(side1 + side2 + side3)\n",
        "    print(f'The perimeter of the traiangle is {total}')\n",
        "\n",
        "if __name__ == \"__main__\":\n",
        "    triangle()"
      ],
      "metadata": {
        "colab": {
          "base_uri": "https://localhost:8080/"
        },
        "id": "EUQ152L_7nW4",
        "outputId": "3cfd49d3-00fb-49e6-9879-452bcecd6013"
      },
      "execution_count": null,
      "outputs": [
        {
          "output_type": "stream",
          "name": "stdout",
          "text": [
            "@05_triangle_perimeter\n",
            "This code is about perimeter of triangle.\n",
            "Enter your first side no of triangle: 5\n",
            "Enter your second side no of triangle: 3\n",
            "Enter your third side no of triangle: 2\n",
            "The perimeter of the traiangle is 10.0\n"
          ]
        }
      ]
    },
    {
      "cell_type": "code",
      "source": [
        "print(\"06_square_number\")\n",
        "\n",
        "def square():\n",
        "    print(\"This code is about square of given number\")\n",
        "    num1: int = int(input(\"Enter any number and I will give you a square value: \"))\n",
        "    print(f'The square of {num1} is {num1 ** 2}')\n",
        "\n",
        "if __name__ == \"__main__\":\n",
        "    square()"
      ],
      "metadata": {
        "colab": {
          "base_uri": "https://localhost:8080/"
        },
        "id": "BAynEoJl9fqB",
        "outputId": "45889b28-873b-4307-ff6a-7a8049e8b9f4"
      },
      "execution_count": null,
      "outputs": [
        {
          "output_type": "stream",
          "name": "stdout",
          "text": [
            "@06_square_number\n",
            "This code is about square of given number\n",
            "Enter any number and I will give you a square value: 5\n",
            "The square of 5 is 25\n"
          ]
        }
      ]
    }
  ]
}