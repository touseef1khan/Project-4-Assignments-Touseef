{
  "nbformat": 4,
  "nbformat_minor": 0,
  "metadata": {
    "colab": {
      "provenance": [],
      "authorship_tag": "ABX9TyNmuaBzMjrPtRzEXq9Yuu4y",
      "include_colab_link": true
    },
    "kernelspec": {
      "name": "python3",
      "display_name": "Python 3"
    },
    "language_info": {
      "name": "python"
    }
  },
  "cells": [
    {
      "cell_type": "markdown",
      "metadata": {
        "id": "view-in-github",
        "colab_type": "text"
      },
      "source": [
        "<a href=\"https://colab.research.google.com/github/touseef1khan/Project-4-Assignments-Touseef/blob/main/07_information_flow.ipynb\" target=\"_parent\"><img src=\"https://colab.research.google.com/assets/colab-badge.svg\" alt=\"Open In Colab\"/></a>"
      ]
    },
    {
      "cell_type": "code",
      "execution_count": 3,
      "metadata": {
        "colab": {
          "base_uri": "https://localhost:8080/"
        },
        "id": "hAnoE0NZV-Zv",
        "outputId": "cac3169d-fda3-4f4d-a092-1db0b3226f02"
      },
      "outputs": [
        {
          "output_type": "stream",
          "name": "stdout",
          "text": [
            "00_choosing_returns\n",
            "Choose one of the following options: A, B, C\n",
            "Enter your choice: → A\n",
            "You chose option A\n"
          ]
        }
      ],
      "source": [
        "print(\"00_choosing_returns\")\n",
        "\n",
        "def choose_return(option):\n",
        "    if option == \"A\":\n",
        "        return \"You chose option A\"\n",
        "    elif option == \"B\":\n",
        "        return \"You chose option B\"\n",
        "    elif option == \"C\":\n",
        "        return \"You chose option C\"\n",
        "    else:\n",
        "        return \"Invalid option. Please choose A, B, or C.\"\n",
        "\n",
        "def main():\n",
        "    print(\"Choose one of the following options: A, B, C\")\n",
        "    option = input(\"Enter your choice: → \")\n",
        "\n",
        "    result = choose_return(option)\n",
        "    print(result)\n",
        "\n",
        "if __name__ == \"__main__\":\n",
        "    main()"
      ]
    },
    {
      "cell_type": "code",
      "source": [
        "print(\"01_greetings\")\n",
        "\n",
        "def greet(name):\n",
        "    return f\"Hello, {name}! Welcome to the program.\"\n",
        "\n",
        "def main():\n",
        "    name = input(\"Please enter your name: → \")\n",
        "    greeting_message = greet(name)\n",
        "    print(greeting_message)\n",
        "\n",
        "if __name__ == \"__main__\":\n",
        "    main()\n"
      ],
      "metadata": {
        "colab": {
          "base_uri": "https://localhost:8080/"
        },
        "id": "2S-BBiUZWnRU",
        "outputId": "338b25eb-8cc4-4b5a-af46-39f14ae07424"
      },
      "execution_count": 4,
      "outputs": [
        {
          "output_type": "stream",
          "name": "stdout",
          "text": [
            "01_greetings\n",
            "Please enter your name: → Touseef\n",
            "Hello, Touseef! Welcome to the program.\n"
          ]
        }
      ]
    },
    {
      "cell_type": "code",
      "source": [
        "print(\"02_in_range\")\n",
        "\n",
        "def is_in_range(number, start, end):\n",
        "    if start <= number <= end:\n",
        "        return True\n",
        "    else:\n",
        "        return False\n",
        "\n",
        "def main():\n",
        "    try:\n",
        "        num = int(input(\"🔢 Enter a number: → \"))\n",
        "        start = int(input(\"Enter the start of the range: → \"))\n",
        "        end = int(input(\"Enter the end of the range: → \"))\n",
        "    except ValueError:\n",
        "        print(\"❌ Please enter valid integers.\")\n",
        "        return\n",
        "\n",
        "    if is_in_range(num, start, end):\n",
        "        print(f\"✅ {num} is within the range of {start} and {end}.\")\n",
        "    else:\n",
        "        print(f\"❌ {num} is not within the range of {start} and {end}.\")\n",
        "\n",
        "if __name__ == \"__main__\":\n",
        "    main()\n"
      ],
      "metadata": {
        "colab": {
          "base_uri": "https://localhost:8080/"
        },
        "id": "bZeojRK1W-Zd",
        "outputId": "1a66f91f-14ac-4c32-bac3-21d89a104261"
      },
      "execution_count": 6,
      "outputs": [
        {
          "output_type": "stream",
          "name": "stdout",
          "text": [
            "02_in_range\n",
            "🔢 Enter a number: → 34\n",
            "Enter the start of the range: → 4\n",
            "Enter the end of the range: → 54\n",
            "✅ 34 is within the range of 4 and 54.\n"
          ]
        }
      ]
    },
    {
      "cell_type": "code",
      "source": [
        "print(\"03_in_stock\")\n",
        "\n",
        "def is_in_stock(product, stock):\n",
        "    if product in stock and stock[product] > 0:\n",
        "        return True\n",
        "    else:\n",
        "        return False\n",
        "\n",
        "def main():\n",
        "    stock = {\n",
        "        \"apple\": 10,\n",
        "        \"banana\": 0,\n",
        "        \"orange\": 5,\n",
        "        \"grapes\": 2\n",
        "    }\n",
        "\n",
        "    product = input(\"Enter the product name to check its stock: → \").lower()\n",
        "\n",
        "    if is_in_stock(product, stock):\n",
        "        print(f\"✅ {product.capitalize()} is in stock!\")\n",
        "    else:\n",
        "        print(f\"❌ {product.capitalize()} is not in stock.\")\n",
        "\n",
        "if __name__ == \"__main__\":\n",
        "    main()\n"
      ],
      "metadata": {
        "colab": {
          "base_uri": "https://localhost:8080/"
        },
        "id": "d0F8DKF-XatF",
        "outputId": "b2cf6d60-c56f-4171-9ca1-ee246faa8d56"
      },
      "execution_count": 7,
      "outputs": [
        {
          "output_type": "stream",
          "name": "stdout",
          "text": [
            "03_in_stock\n",
            "Enter the product name to check its stock: → Apple\n",
            "✅ Apple is in stock!\n"
          ]
        }
      ]
    },
    {
      "cell_type": "code",
      "source": [
        "\n",
        "print(\"04_multiple_returns\")\n",
        "\n",
        "import math\n",
        "\n",
        "def analyze_number(number):\n",
        "    square = number ** 2\n",
        "    cube = number ** 3\n",
        "    square_root = math.sqrt(number)\n",
        "\n",
        "    return square, cube, square_root\n",
        "\n",
        "def main():\n",
        "    try:\n",
        "        num = float(input(\"🔢 Enter a number: → \"))\n",
        "    except ValueError:\n",
        "        print(\"❌ Please enter a valid number.\")\n",
        "        return\n",
        "\n",
        "    square, cube, square_root = analyze_number(num)\n",
        "\n",
        "    print(f\"✅ The square of {num} is: {square}\")\n",
        "    print(f\"✅ The cube of {num} is: {cube}\")\n",
        "    print(f\"✅ The square root of {num} is: {square_root:.2f}\")\n",
        "\n",
        "if __name__ == \"__main__\":\n",
        "    main()"
      ],
      "metadata": {
        "colab": {
          "base_uri": "https://localhost:8080/"
        },
        "id": "Ka2M-GTtXqtj",
        "outputId": "2cc4161f-839d-45a4-f12c-82814bd01739"
      },
      "execution_count": 8,
      "outputs": [
        {
          "output_type": "stream",
          "name": "stdout",
          "text": [
            "04_multiple_returns\n",
            "🔢 Enter a number: → 4\n",
            "✅ The square of 4.0 is: 16.0\n",
            "✅ The cube of 4.0 is: 64.0\n",
            "✅ The square root of 4.0 is: 2.00\n"
          ]
        }
      ]
    },
    {
      "cell_type": "code",
      "source": [
        "print(\"05_subtract_7\")\n",
        "\n",
        "def subtract_seven(number):\n",
        "    return number - 7\n",
        "\n",
        "def main():\n",
        "    try:\n",
        "        num = float(input(\"🔢 Enter a number: → \"))\n",
        "    except ValueError:\n",
        "        print(\"❌ Please enter a valid number.\")\n",
        "        return\n",
        "\n",
        "    result = subtract_seven(num)\n",
        "    print(f\"✅ After subtracting 7, the result is: {result}\")\n",
        "\n",
        "if __name__ == \"__main__\":\n",
        "    main()\n"
      ],
      "metadata": {
        "colab": {
          "base_uri": "https://localhost:8080/"
        },
        "id": "BRghOzMJX8tq",
        "outputId": "69ab33f3-5ad2-4730-9ac1-d3f0e634aee0"
      },
      "execution_count": 9,
      "outputs": [
        {
          "output_type": "stream",
          "name": "stdout",
          "text": [
            "05_subtract_7\n",
            "🔢 Enter a number: → 43\n",
            "✅ After subtracting 7, the result is: 36.0\n"
          ]
        }
      ]
    }
  ]
}