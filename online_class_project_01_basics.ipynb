{
  "nbformat": 4,
  "nbformat_minor": 0,
  "metadata": {
    "colab": {
      "provenance": [],
      "authorship_tag": "ABX9TyOUHQ8vokBOWepXSpiBIUOW",
      "include_colab_link": true
    },
    "kernelspec": {
      "name": "python3",
      "display_name": "Python 3"
    },
    "language_info": {
      "name": "python"
    }
  },
  "cells": [
    {
      "cell_type": "markdown",
      "metadata": {
        "id": "view-in-github",
        "colab_type": "text"
      },
      "source": [
        "<a href=\"https://colab.research.google.com/github/touseef1khan/Project-4-Assignments-Touseef/blob/main/online_class_project_01_basics.ipynb\" target=\"_parent\"><img src=\"https://colab.research.google.com/assets/colab-badge.svg\" alt=\"Open In Colab\"/></a>"
      ]
    },
    {
      "cell_type": "code",
      "execution_count": 1,
      "metadata": {
        "colab": {
          "base_uri": "https://localhost:8080/"
        },
        "id": "8NVjPgFEvUOf",
        "outputId": "fc56cf49-3866-4c23-fd12-973cc1d926a1"
      },
      "outputs": [
        {
          "output_type": "stream",
          "name": "stdout",
          "text": [
            "00_joke_bot\n",
            "What do you want? story\n",
            "Sorry I only tell jokes.\n"
          ]
        }
      ],
      "source": [
        "print(\"00_joke_bot\")\n",
        "\n",
        "PROMPT: str = \"What do you want? \"\n",
        "JOKE:str = \"Why don’t skeletons fight each other? \\n Because they don’t have the guts! 😆\"\n",
        "SORRY:str = \"Sorry I only tell jokes.\"\n",
        "\n",
        "def main():\n",
        "  user_input = input(PROMPT)\n",
        "  user_input = user_input.strip().lower()\n",
        "\n",
        "  if \"joke\" in user_input:\n",
        "    print(JOKE)\n",
        "  else:\n",
        "    print(SORRY)\n",
        "\n",
        "if __name__ == \"__main__\":\n",
        "  main()"
      ]
    },
    {
      "cell_type": "code",
      "source": [
        "print(\"01_double_it\")\n",
        "\n",
        "def main():\n",
        "  user_value = int(input(\"Enter a number: \"))\n",
        "  while user_value < 100:\n",
        "    user_value = user_value * 2\n",
        "    print(user_value)\n",
        "\n",
        "if __name__ == \"__main__\":\n",
        "  main()"
      ],
      "metadata": {
        "colab": {
          "base_uri": "https://localhost:8080/"
        },
        "id": "XbyHZLzqxwD_",
        "outputId": "ae1cf7c1-16c5-4e09-fb39-a5d6edb50c04"
      },
      "execution_count": 2,
      "outputs": [
        {
          "output_type": "stream",
          "name": "stdout",
          "text": [
            "01_double_it\n",
            "Enter a number: 2\n",
            "4\n",
            "8\n",
            "16\n",
            "32\n",
            "64\n",
            "128\n"
          ]
        }
      ]
    },
    {
      "cell_type": "code",
      "source": [
        "print(\"02_liftoff\")\n",
        "\n",
        "def main():\n",
        "  for i in range(10,0,-1):\n",
        "    print(i,end = \" \")\n",
        "  print(\"liftoff🚀\")\n",
        "\n",
        "if __name__ == \"__main__\":\n",
        "  main()"
      ],
      "metadata": {
        "colab": {
          "base_uri": "https://localhost:8080/"
        },
        "id": "-yHUBbynx9Yy",
        "outputId": "18a40e53-87b1-4a46-f7cc-3c071b4064cf"
      },
      "execution_count": 3,
      "outputs": [
        {
          "output_type": "stream",
          "name": "stdout",
          "text": [
            "02_liftoff\n",
            "10 9 8 7 6 5 4 3 2 1 liftoff🚀\n"
          ]
        }
      ]
    },
    {
      "cell_type": "code",
      "source": [
        "import random\n",
        "\n",
        "print(\"03_guess_my_number.\")\n",
        "\n",
        "def main():\n",
        "  secret_number = random.randint(1,100)\n",
        "  print(\"I am thinking of a number between 1 and 100....\")\n",
        "\n",
        "  guess = int(input(\"Enter a guess: \"))\n",
        "\n",
        "  while guess != secret_number:\n",
        "    if guess < secret_number:\n",
        "      print(\"Your guess is too low.\")\n",
        "    else:\n",
        "      print(\"Your guess is too high.\")\n",
        "    guess = int(input(\"Enter a guess: \"))\n",
        "\n",
        "  print(f\"Congratulation! The number was {secret_number}\")\n",
        "\n",
        "\n",
        "if __name__ == \"__main__\":\n",
        "  main()"
      ],
      "metadata": {
        "colab": {
          "base_uri": "https://localhost:8080/"
        },
        "id": "VMYjr6_f0hGj",
        "outputId": "d6f73b6e-2ef9-40ba-a186-2654abb601d3"
      },
      "execution_count": 5,
      "outputs": [
        {
          "output_type": "stream",
          "name": "stdout",
          "text": [
            "03_guess_my_number.\n",
            "I am thinking of a number between 1 and 100....\n",
            "Enter a guess: 6\n",
            "Your guess is too low.\n",
            "Enter a guess: 89\n",
            "Your guess is too high.\n",
            "Enter a guess: 87\n",
            "Your guess is too high.\n",
            "Enter a guess: 70\n",
            "Your guess is too high.\n",
            "Enter a guess: 60\n",
            "Your guess is too high.\n",
            "Enter a guess: 50\n",
            "Your guess is too high.\n",
            "Enter a guess: 40\n",
            "Your guess is too high.\n",
            "Enter a guess: 42\n",
            "Your guess is too high.\n",
            "Enter a guess: 50\n",
            "Your guess is too high.\n",
            "Enter a guess: 80\n",
            "Your guess is too high.\n",
            "Enter a guess: 40\n",
            "Your guess is too high.\n",
            "Enter a guess: 30\n",
            "Your guess is too high.\n",
            "Enter a guess: 20\n",
            "Your guess is too high.\n",
            "Enter a guess: 10\n",
            "Your guess is too low.\n",
            "Enter a guess: 9\n",
            "Your guess is too low.\n",
            "Enter a guess: 8\n",
            "Your guess is too low.\n",
            "Enter a guess: 7\n",
            "Your guess is too low.\n",
            "Enter a guess: 6\n",
            "Your guess is too low.\n",
            "Enter a guess: 5\n",
            "Your guess is too low.\n",
            "Enter a guess: 4\n",
            "Your guess is too low.\n",
            "Enter a guess: 3\n",
            "Your guess is too low.\n",
            "Enter a guess: 2\n",
            "Your guess is too low.\n",
            "Enter a guess: 1\n",
            "Your guess is too low.\n",
            "Enter a guess: 20\n",
            "Your guess is too high.\n",
            "Enter a guess: 22\n",
            "Your guess is too high.\n",
            "Enter a guess: 23\n",
            "Your guess is too high.\n",
            "Enter a guess: 25\n",
            "Your guess is too high.\n",
            "Enter a guess: 23\n",
            "Your guess is too high.\n",
            "Enter a guess: 22\n",
            "Your guess is too high.\n",
            "Enter a guess: 25\n",
            "Your guess is too high.\n",
            "Enter a guess: 46\n",
            "Your guess is too high.\n",
            "Enter a guess: 46\n",
            "Your guess is too high.\n",
            "Enter a guess: 45\n",
            "Your guess is too high.\n",
            "Enter a guess: 44\n",
            "Your guess is too high.\n",
            "Enter a guess: 52\n",
            "Your guess is too high.\n",
            "Enter a guess: 20\n",
            "Your guess is too high.\n",
            "Enter a guess: 10\n",
            "Your guess is too low.\n",
            "Enter a guess: 12\n",
            "Your guess is too low.\n",
            "Enter a guess: 15\n",
            "Congratulation! The number was 15\n"
          ]
        }
      ]
    },
    {
      "cell_type": "code",
      "source": [
        "import random\n",
        "print(\"04_random_numbers\")\n",
        "\n",
        "def main():\n",
        "  for _ in range(10):\n",
        "    print(random.randint(1,100),end = \" \")\n",
        "\n",
        "if __name__ == \"__main__\":\n",
        "  main()\n"
      ],
      "metadata": {
        "colab": {
          "base_uri": "https://localhost:8080/"
        },
        "id": "ISr-KjBr2FIa",
        "outputId": "5e149a39-c8b7-4073-b0a9-4344f6177283"
      },
      "execution_count": 6,
      "outputs": [
        {
          "output_type": "stream",
          "name": "stdout",
          "text": [
            "04_random_numbers\n",
            "90 28 73 7 7 37 93 64 31 13 "
          ]
        }
      ]
    }
  ]
}