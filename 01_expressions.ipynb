{
  "nbformat": 4,
  "nbformat_minor": 0,
  "metadata": {
    "colab": {
      "provenance": [],
      "authorship_tag": "ABX9TyNwPOK/u/wVuaR9e2bcS+Wg",
      "include_colab_link": true
    },
    "kernelspec": {
      "name": "python3",
      "display_name": "Python 3"
    },
    "language_info": {
      "name": "python"
    }
  },
  "cells": [
    {
      "cell_type": "markdown",
      "metadata": {
        "id": "view-in-github",
        "colab_type": "text"
      },
      "source": [
        "<a href=\"https://colab.research.google.com/github/touseef1khan/Project-4-Assignments-Touseef/blob/main/01_expressions.ipynb\" target=\"_parent\"><img src=\"https://colab.research.google.com/assets/colab-badge.svg\" alt=\"Open In Colab\"/></a>"
      ]
    },
    {
      "cell_type": "code",
      "execution_count": 1,
      "metadata": {
        "colab": {
          "base_uri": "https://localhost:8080/"
        },
        "id": "PNNfDs9g1nJK",
        "outputId": "d47de360-c35d-4748-bc02-60bd5ebd6c38"
      },
      "outputs": [
        {
          "output_type": "stream",
          "name": "stdout",
          "text": [
            "01_dicesimulator\n",
            "die1 in main() start as: 10\n",
            "Total of two dies: 8\n",
            "Total of two dies: 8\n",
            "Total of two dies: 12\n",
            "die1 in main() is: 10\n"
          ]
        }
      ],
      "source": [
        "import random\n",
        "print(\"01_dicesimulator\")\n",
        "\n",
        "def roll_dice():\n",
        "    die1: int = random.randint(1, 6)\n",
        "    die2: int = random.randint(1, 6)\n",
        "    total: int = die1 + die2\n",
        "    print(f\"Total of two dies: {total}\")\n",
        "\n",
        "def main():\n",
        "    die1: int = 10\n",
        "    print(\"die1 in main() start as: \" + str(die1))\n",
        "    roll_dice()\n",
        "    roll_dice()\n",
        "    roll_dice()\n",
        "    print(\"die1 in main() is: \" + str(die1))\n",
        "\n",
        "if __name__ == \"__main__\":\n",
        "    main()"
      ]
    },
    {
      "cell_type": "code",
      "source": [
        "print(\"02_e=mc^2\")\n",
        "\n",
        "def energy():\n",
        "    c: float = 299792458\n",
        "    m: float = float(input(\"Enter Kilos of mass: \"))\n",
        "    print(\"e = m * c^2\")\n",
        "    print(\"Mass = \" + str(m) + \" kg\")\n",
        "    print(\"C = \" + str(c) + \" m/s\")\n",
        "    print(\"e = \" + str(m * (c ** 2)) + \" jules\")\n",
        "\n",
        "if __name__ == \"__main__\":\n",
        "    energy()"
      ],
      "metadata": {
        "colab": {
          "base_uri": "https://localhost:8080/"
        },
        "id": "8Aqxwt4G4X1m",
        "outputId": "6d194418-8344-4621-80d3-be5b8da3be9c"
      },
      "execution_count": 3,
      "outputs": [
        {
          "output_type": "stream",
          "name": "stdout",
          "text": [
            "02_e=mc^2\n",
            "Enter Kilos of mass: 450\n",
            "e = m * c^2\n",
            "Mass = 450.0 kg\n",
            "C = 299792458 m/s\n",
            "e = 4.0443983043156795e+19 jules\n"
          ]
        }
      ]
    },
    {
      "cell_type": "code",
      "source": [
        "print(\"03_feet_to_inches\")\n",
        "\n",
        "inch: int = 12\n",
        "\n",
        "def foot():\n",
        "    feet: int = int(input(\"Enter feet and I will convert into inches. \"))\n",
        "    print(f\"There are {inch * feet} inches in {feet} feet.\")\n",
        "\n",
        "if __name__ == \"__main__\":\n",
        "    foot()"
      ],
      "metadata": {
        "colab": {
          "base_uri": "https://localhost:8080/"
        },
        "id": "XyV07EtF8XIH",
        "outputId": "08457d45-b8d1-4b62-d65a-1334d3247065"
      },
      "execution_count": 4,
      "outputs": [
        {
          "output_type": "stream",
          "name": "stdout",
          "text": [
            "03_feet_to_inches\n",
            "Enter feet and I will convert into inches. 45\n",
            "There are 540 inches in 45 feet.\n"
          ]
        }
      ]
    },
    {
      "cell_type": "code",
      "source": [
        "import math\n",
        "print(\"04_pythagorean_theorem\")\n",
        "\n",
        "def triangle():\n",
        "    ab: float = float(input(\"Enter the length of the side ab: \"))\n",
        "    ac: float = float(input(\"Enter the length of the side ac: \"))\n",
        "    bc: float = math.sqrt(ab*2 + ac*2)\n",
        "    print(f\"The length of bc (the hypotenuse) is: {bc}\")\n",
        "\n",
        "if __name__ == \"__main__\":\n",
        "    triangle()"
      ],
      "metadata": {
        "colab": {
          "base_uri": "https://localhost:8080/"
        },
        "id": "I9ErViMK9otA",
        "outputId": "ec4eb3eb-3725-45cd-9ee3-c3d8f30a1ad8"
      },
      "execution_count": 5,
      "outputs": [
        {
          "output_type": "stream",
          "name": "stdout",
          "text": [
            "04_pythagorean_theorem\n",
            "Enter the length of the side ab: 4.9\n",
            "Enter the length of the side ac: 5.8\n",
            "The length of bc (the hypotenuse) is: 4.626013402488151\n"
          ]
        }
      ]
    },
    {
      "cell_type": "code",
      "source": [
        "print(\"05_remainder_division\")\n",
        "\n",
        "def reminder():\n",
        "    num1: int = int(input(\"Enter an integer to be divided: \"))\n",
        "    num2: int = int(input(\"Enter an integer to divide by: \"))\n",
        "    quotient: int = num1 // num2\n",
        "    remainder: int = num1 % num2\n",
        "    print(f\"The result of this division is {quotient} with a remainder of {remainder}\")\n",
        "\n",
        "if __name__ == \"__main__\":\n",
        "    reminder()"
      ],
      "metadata": {
        "colab": {
          "base_uri": "https://localhost:8080/"
        },
        "id": "a9m9NGpd-at6",
        "outputId": "8bc6b10b-6a17-48fa-b76c-c352c0731a67"
      },
      "execution_count": 7,
      "outputs": [
        {
          "output_type": "stream",
          "name": "stdout",
          "text": [
            "05_remainder_division\n",
            "Enter an integer to be divided: 45\n",
            "Enter an integer to divide by: 2\n",
            "The result of this division is 22 with a remainder of 1\n"
          ]
        }
      ]
    },
    {
      "cell_type": "code",
      "source": [
        "import random\n",
        "print(\"06_roll_dice.\")\n",
        "\n",
        "def dice():\n",
        "    die1: int = random.randint(1, 6)\n",
        "    die2: int = random.randint(1, 6)\n",
        "    total: int = int(die1 + die2)\n",
        "    print(\"First die: \" + str(die1))\n",
        "    print(\"Second die: \" + str(die2))\n",
        "    print(f\"Total of two dies: {total}\")\n",
        "\n",
        "if __name__ == \"__main__\":\n",
        "    dice()"
      ],
      "metadata": {
        "colab": {
          "base_uri": "https://localhost:8080/"
        },
        "id": "Hb_2hpZAADiL",
        "outputId": "434686a0-c9cb-415a-bb73-256d2d877a37"
      },
      "execution_count": 9,
      "outputs": [
        {
          "output_type": "stream",
          "name": "stdout",
          "text": [
            "06_roll_dice.\n",
            "First die: 4\n",
            "Second die: 1\n",
            "Total of two dies: 5\n"
          ]
        }
      ]
    },
    {
      "cell_type": "code",
      "source": [
        "print(\"06_seconds_in_year\")\n",
        "\n",
        "days_in_year: int = 365\n",
        "hours_per_day: int = 24\n",
        "minutes_per_hour: int = 60\n",
        "seconds_per_minute: int = 60\n",
        "\n",
        "def seconds():\n",
        "    print(f'There are {days_in_year * hours_per_day * minutes_per_hour * seconds_per_minute} seconds in a year!')\n",
        "\n",
        "if __name__ == \"__main__\":\n",
        "    seconds()"
      ],
      "metadata": {
        "colab": {
          "base_uri": "https://localhost:8080/"
        },
        "id": "tX09l6INBWUR",
        "outputId": "e912fd7c-aa3f-4632-96b4-3ad6cb1389cc"
      },
      "execution_count": 10,
      "outputs": [
        {
          "output_type": "stream",
          "name": "stdout",
          "text": [
            "06_seconds_in_year\n",
            "There are 31536000 seconds in a year!\n"
          ]
        }
      ]
    },
    {
      "cell_type": "code",
      "source": [
        "print(\"7_tiny_mad_lib\")\n",
        "\n",
        "def mad_lib():\n",
        "    noun: str = str(input(\"Enter a noun: \"))\n",
        "    adjective: str = str(input(\"Enter an adjective: \"))\n",
        "    verb: str = str(input(\"Enter a verb: \"))\n",
        "    print(f\"Do you {verb} your {adjective} {noun}?\")\n",
        "\n",
        "if __name__ == \"__main__\":\n",
        "    mad_lib()"
      ],
      "metadata": {
        "colab": {
          "base_uri": "https://localhost:8080/"
        },
        "id": "QcImEai7CEcL",
        "outputId": "ed225445-eb00-4088-a95f-b876fe588e99"
      },
      "execution_count": 11,
      "outputs": [
        {
          "output_type": "stream",
          "name": "stdout",
          "text": [
            "7_tiny_mad_lib\n",
            "Enter a noun: cat\n",
            "Enter an adjective: cute\n",
            "Enter a verb: sleep\n",
            "Do you sleep your cute cat?\n"
          ]
        }
      ]
    }
  ]
}